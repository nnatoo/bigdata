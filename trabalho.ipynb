{
 "cells": [
  {
   "cell_type": "markdown",
   "id": "892e9d79-e31a-40ed-b1a5-fab252aad812",
   "metadata": {
    "tags": []
   },
   "source": [
    "<img src=\"https://www.uninove.br/logo-uninove.svg\" style=\"margin-left:auto; margin-right:true\"/>"
   ]
  },
  {
   "cell_type": "markdown",
   "id": "f57b7a8b-52b0-4670-81b2-9e6ad8d2c0c1",
   "metadata": {},
   "source": [
    "<h1 style=\"text-align: center; color:#3E2AA2;\">Análise e tratamento de dados</h1>\n",
    "<p style=\"text-align: center;\"><b>BIG DATA, DATA ANALYTICS E FERRAMENTAS DE ANÁLISE DE DADOS IOT</b><br><b>Aluno: </b>Renato Batista de Almeida <b>RA: </b>621200587<br><b>\n",
    "    Professor: </b>Fellipe Martins</p>    "
   ]
  },
  {
   "cell_type": "markdown",
   "id": "aa3b73bb-25b8-4926-9e29-778c39eadaf4",
   "metadata": {
    "tags": []
   },
   "source": [
    "# Índice\n",
    "\n",
    "[Importar dependências](#dependencias) <br>\n",
    "[Conectando uma fonte de dados do tipo CSV](#fontedados) <br>"
   ]
  },
  {
   "cell_type": "markdown",
   "id": "4b78b0a1-a6e4-4dc6-aabe-42c51d0b0a1c",
   "metadata": {},
   "source": [
    "<a name=\"dependencias\"><h3>Importar dependências</h2></a>"
   ]
  },
  {
   "cell_type": "code",
   "execution_count": 36,
   "id": "7b8347e2-80b0-4979-983b-a9fdb13b30f0",
   "metadata": {},
   "outputs": [],
   "source": [
    "import pandas as pd\n",
    "import numpy as np\n",
    "import matplotlib.pyplot as plt\n",
    "%matplotlib inline"
   ]
  },
  {
   "cell_type": "markdown",
   "id": "97df4976-a58b-45f0-a541-fd41d440e725",
   "metadata": {},
   "source": [
    "<a name=\"fontedados\"><h3>Conectando uma fonte de dados do tipo CSV</h2></a>\n"
   ]
  },
  {
   "cell_type": "code",
   "execution_count": 29,
   "id": "6fb787db-d8f2-4f72-ad0f-811e0d225ba9",
   "metadata": {},
   "outputs": [
    {
     "data": {
      "text/html": [
       "<div>\n",
       "<style scoped>\n",
       "    .dataframe tbody tr th:only-of-type {\n",
       "        vertical-align: middle;\n",
       "    }\n",
       "\n",
       "    .dataframe tbody tr th {\n",
       "        vertical-align: top;\n",
       "    }\n",
       "\n",
       "    .dataframe thead th {\n",
       "        text-align: right;\n",
       "    }\n",
       "</style>\n",
       "<table border=\"1\" class=\"dataframe\">\n",
       "  <thead>\n",
       "    <tr style=\"text-align: right;\">\n",
       "      <th></th>\n",
       "      <th>Pessoa Tipo</th>\n",
       "      <th>Centro de Custos</th>\n",
       "      <th>Grupo De Despesas</th>\n",
       "      <th>Despesa</th>\n",
       "      <th>Pagamento</th>\n",
       "      <th>Valor</th>\n",
       "      <th>Parcela</th>\n",
       "      <th>Forma de Pagto</th>\n",
       "      <th>Banco</th>\n",
       "      <th>Histórico</th>\n",
       "    </tr>\n",
       "  </thead>\n",
       "  <tbody>\n",
       "    <tr>\n",
       "      <th>0</th>\n",
       "      <td>PJ</td>\n",
       "      <td>CUSTO FIXO GERAL</td>\n",
       "      <td>ADMINISTRAÇÃO</td>\n",
       "      <td>CAFÉ</td>\n",
       "      <td>02/01/2020</td>\n",
       "      <td>R$ 420,42</td>\n",
       "      <td>NaN</td>\n",
       "      <td>INTERNET</td>\n",
       "      <td>OUTROS</td>\n",
       "      <td>insumos nescafe</td>\n",
       "    </tr>\n",
       "    <tr>\n",
       "      <th>1</th>\n",
       "      <td>PF</td>\n",
       "      <td>CUSTO FIXO GERAL</td>\n",
       "      <td>RECURSOS HUMANOS - SALÁRIOS</td>\n",
       "      <td>MARCELA DE BERNARDO</td>\n",
       "      <td>03/01/2020</td>\n",
       "      <td>R$ 3.500,00</td>\n",
       "      <td>NaN</td>\n",
       "      <td>TRANSFERÊNCIA</td>\n",
       "      <td>ITAÚ PESSOA FÍSICA</td>\n",
       "      <td>NaN</td>\n",
       "    </tr>\n",
       "    <tr>\n",
       "      <th>2</th>\n",
       "      <td>PF</td>\n",
       "      <td>CUSTO FIXO GERAL</td>\n",
       "      <td>RECURSOS HUMANOS - SALÁRIOS</td>\n",
       "      <td>TAIANNY DUARTE</td>\n",
       "      <td>03/01/2020</td>\n",
       "      <td>R$ 3.500,00</td>\n",
       "      <td>NaN</td>\n",
       "      <td>NaN</td>\n",
       "      <td>ITAÚ PESSOA FÍSICA</td>\n",
       "      <td>ultimo mes - dezembro - mudou pra franca</td>\n",
       "    </tr>\n",
       "    <tr>\n",
       "      <th>3</th>\n",
       "      <td>PJ</td>\n",
       "      <td>CUSTO FIXO GERAL</td>\n",
       "      <td>RECURSOS HUMANOS - SALÁRIOS</td>\n",
       "      <td>ANTONIELA MOTA DOS SANTOS</td>\n",
       "      <td>06/01/2020</td>\n",
       "      <td>R$ 1.151,50</td>\n",
       "      <td>NaN</td>\n",
       "      <td>TRANSFERÊNCIA</td>\n",
       "      <td>ITAÚ PESSOA JURÍDICA</td>\n",
       "      <td>NaN</td>\n",
       "    </tr>\n",
       "    <tr>\n",
       "      <th>4</th>\n",
       "      <td>PJ</td>\n",
       "      <td>CUSTO FIXO GERAL</td>\n",
       "      <td>RECURSOS HUMANOS - BENEFÍCIOS VR</td>\n",
       "      <td>ANTONIELA MOTA DOS SANTOS</td>\n",
       "      <td>06/01/2020</td>\n",
       "      <td>R$ 129,60</td>\n",
       "      <td>NaN</td>\n",
       "      <td>TRANSFERÊNCIA</td>\n",
       "      <td>ITAÚ PESSOA JURÍDICA</td>\n",
       "      <td>valor da cesta basica - esta de licenca matern...</td>\n",
       "    </tr>\n",
       "    <tr>\n",
       "      <th>...</th>\n",
       "      <td>...</td>\n",
       "      <td>...</td>\n",
       "      <td>...</td>\n",
       "      <td>...</td>\n",
       "      <td>...</td>\n",
       "      <td>...</td>\n",
       "      <td>...</td>\n",
       "      <td>...</td>\n",
       "      <td>...</td>\n",
       "      <td>...</td>\n",
       "    </tr>\n",
       "    <tr>\n",
       "      <th>378</th>\n",
       "      <td>PJ</td>\n",
       "      <td>CUSTO FIXO GERAL</td>\n",
       "      <td>IMOBILIZADO</td>\n",
       "      <td>EQUIPAMENTOS</td>\n",
       "      <td>23/12/2020</td>\n",
       "      <td>R$ 1.855,00</td>\n",
       "      <td>NaN</td>\n",
       "      <td>INTERNET</td>\n",
       "      <td>ITAÚ PESSOA JURÍDICA</td>\n",
       "      <td>nobreak 5 kva</td>\n",
       "    </tr>\n",
       "    <tr>\n",
       "      <th>379</th>\n",
       "      <td>PF</td>\n",
       "      <td>CUSTO FIXO GERAL</td>\n",
       "      <td>ADMINISTRAÇÃO</td>\n",
       "      <td>VIVO FIBRA (TV À CABO)</td>\n",
       "      <td>25/12/2020</td>\n",
       "      <td>R$ 223,87</td>\n",
       "      <td>NaN</td>\n",
       "      <td>INTERNET</td>\n",
       "      <td>ITAÚ PESSOA JURÍDICA</td>\n",
       "      <td>deb auto</td>\n",
       "    </tr>\n",
       "    <tr>\n",
       "      <th>380</th>\n",
       "      <td>NC</td>\n",
       "      <td>CUSTO FIXO GERAL</td>\n",
       "      <td>MANUTENÇÕES</td>\n",
       "      <td>DIVERSOS MANUTENÇÃO</td>\n",
       "      <td>25/12/2020</td>\n",
       "      <td>R$ 850,00</td>\n",
       "      <td>NaN</td>\n",
       "      <td>TRANSFERÊNCIA</td>\n",
       "      <td>ITAU CONJUNTA</td>\n",
       "      <td>Gustavo eletricista  - quadro de luz, instalac...</td>\n",
       "    </tr>\n",
       "    <tr>\n",
       "      <th>381</th>\n",
       "      <td>PF</td>\n",
       "      <td>CUSTO FIXO GERAL</td>\n",
       "      <td>ADMINISTRAÇÃO</td>\n",
       "      <td>VIVO (11 3031-4910)</td>\n",
       "      <td>27/12/2020</td>\n",
       "      <td>R$ 126,71</td>\n",
       "      <td>NaN</td>\n",
       "      <td>INTERNET</td>\n",
       "      <td>ITAÚ PESSOA JURÍDICA</td>\n",
       "      <td>deb automatico</td>\n",
       "    </tr>\n",
       "    <tr>\n",
       "      <th>382</th>\n",
       "      <td>PJ</td>\n",
       "      <td>CUSTO FIXO GERAL</td>\n",
       "      <td>ADMINISTRAÇÃO</td>\n",
       "      <td>MARKETING</td>\n",
       "      <td>31/12/2020</td>\n",
       "      <td>R$ 2.695,00</td>\n",
       "      <td>NaN</td>\n",
       "      <td>TRANSFERÊNCIA</td>\n",
       "      <td>ITAÚ PESSOA JURÍDICA</td>\n",
       "      <td>4 press</td>\n",
       "    </tr>\n",
       "  </tbody>\n",
       "</table>\n",
       "<p>383 rows × 10 columns</p>\n",
       "</div>"
      ],
      "text/plain": [
       "    Pessoa Tipo  Centro de Custos                 Grupo De Despesas  \\\n",
       "0            PJ  CUSTO FIXO GERAL                     ADMINISTRAÇÃO   \n",
       "1            PF  CUSTO FIXO GERAL       RECURSOS HUMANOS - SALÁRIOS   \n",
       "2            PF  CUSTO FIXO GERAL       RECURSOS HUMANOS - SALÁRIOS   \n",
       "3            PJ  CUSTO FIXO GERAL       RECURSOS HUMANOS - SALÁRIOS   \n",
       "4            PJ  CUSTO FIXO GERAL  RECURSOS HUMANOS - BENEFÍCIOS VR   \n",
       "..          ...               ...                               ...   \n",
       "378          PJ  CUSTO FIXO GERAL                       IMOBILIZADO   \n",
       "379          PF  CUSTO FIXO GERAL                     ADMINISTRAÇÃO   \n",
       "380          NC  CUSTO FIXO GERAL                       MANUTENÇÕES   \n",
       "381          PF  CUSTO FIXO GERAL                     ADMINISTRAÇÃO   \n",
       "382          PJ  CUSTO FIXO GERAL                     ADMINISTRAÇÃO   \n",
       "\n",
       "                       Despesa   Pagamento        Valor  Parcela  \\\n",
       "0                         CAFÉ  02/01/2020    R$ 420,42      NaN   \n",
       "1          MARCELA DE BERNARDO  03/01/2020  R$ 3.500,00      NaN   \n",
       "2               TAIANNY DUARTE  03/01/2020  R$ 3.500,00      NaN   \n",
       "3    ANTONIELA MOTA DOS SANTOS  06/01/2020  R$ 1.151,50      NaN   \n",
       "4    ANTONIELA MOTA DOS SANTOS  06/01/2020    R$ 129,60      NaN   \n",
       "..                         ...         ...          ...      ...   \n",
       "378               EQUIPAMENTOS  23/12/2020  R$ 1.855,00      NaN   \n",
       "379     VIVO FIBRA (TV À CABO)  25/12/2020    R$ 223,87      NaN   \n",
       "380        DIVERSOS MANUTENÇÃO  25/12/2020    R$ 850,00      NaN   \n",
       "381        VIVO (11 3031-4910)  27/12/2020    R$ 126,71      NaN   \n",
       "382                  MARKETING  31/12/2020  R$ 2.695,00      NaN   \n",
       "\n",
       "    Forma de Pagto                 Banco  \\\n",
       "0         INTERNET                OUTROS   \n",
       "1    TRANSFERÊNCIA    ITAÚ PESSOA FÍSICA   \n",
       "2              NaN    ITAÚ PESSOA FÍSICA   \n",
       "3    TRANSFERÊNCIA  ITAÚ PESSOA JURÍDICA   \n",
       "4    TRANSFERÊNCIA  ITAÚ PESSOA JURÍDICA   \n",
       "..             ...                   ...   \n",
       "378       INTERNET  ITAÚ PESSOA JURÍDICA   \n",
       "379       INTERNET  ITAÚ PESSOA JURÍDICA   \n",
       "380  TRANSFERÊNCIA         ITAU CONJUNTA   \n",
       "381       INTERNET  ITAÚ PESSOA JURÍDICA   \n",
       "382  TRANSFERÊNCIA  ITAÚ PESSOA JURÍDICA   \n",
       "\n",
       "                                             Histórico  \n",
       "0                                      insumos nescafe  \n",
       "1                                                  NaN  \n",
       "2             ultimo mes - dezembro - mudou pra franca  \n",
       "3                                                  NaN  \n",
       "4    valor da cesta basica - esta de licenca matern...  \n",
       "..                                                 ...  \n",
       "378                                      nobreak 5 kva  \n",
       "379                                           deb auto  \n",
       "380  Gustavo eletricista  - quadro de luz, instalac...  \n",
       "381                                     deb automatico  \n",
       "382                                            4 press  \n",
       "\n",
       "[383 rows x 10 columns]"
      ]
     },
     "execution_count": 29,
     "metadata": {},
     "output_type": "execute_result"
    }
   ],
   "source": [
    "df = pd.read_csv(\"E:\\\\desktop\\\\uninove\\\\dados.csv\", \"r\", delimiter=';', encoding=\"UTF-8\")\n",
    "df"
   ]
  },
  {
   "cell_type": "code",
   "execution_count": 30,
   "id": "5bf4b53b-51da-4083-91bd-a98f7e6b9840",
   "metadata": {},
   "outputs": [
    {
     "data": {
      "text/plain": [
       "Pessoa Tipo           object\n",
       "Centro de Custos      object\n",
       "Grupo De Despesas     object\n",
       "Despesa               object\n",
       "Pagamento             object\n",
       "Valor                 object\n",
       "Parcela              float64\n",
       "Forma de Pagto        object\n",
       "Banco                 object\n",
       "Histórico             object\n",
       "dtype: object"
      ]
     },
     "execution_count": 30,
     "metadata": {},
     "output_type": "execute_result"
    }
   ],
   "source": [
    "df.dtypes"
   ]
  },
  {
   "cell_type": "code",
   "execution_count": 31,
   "id": "2469640b-ac1f-4c84-b72b-e66a98e14e3d",
   "metadata": {},
   "outputs": [
    {
     "name": "stdout",
     "output_type": "stream",
     "text": [
      "<class 'pandas.core.frame.DataFrame'>\n",
      "RangeIndex: 383 entries, 0 to 382\n",
      "Data columns (total 10 columns):\n",
      " #   Column             Non-Null Count  Dtype  \n",
      "---  ------             --------------  -----  \n",
      " 0   Pessoa Tipo        383 non-null    object \n",
      " 1   Centro de Custos   383 non-null    object \n",
      " 2   Grupo De Despesas  383 non-null    object \n",
      " 3   Despesa            383 non-null    object \n",
      " 4   Pagamento          383 non-null    object \n",
      " 5   Valor              383 non-null    object \n",
      " 6   Parcela            0 non-null      float64\n",
      " 7   Forma de Pagto     381 non-null    object \n",
      " 8   Banco              383 non-null    object \n",
      " 9   Histórico          203 non-null    object \n",
      "dtypes: float64(1), object(9)\n",
      "memory usage: 30.0+ KB\n"
     ]
    }
   ],
   "source": [
    "df.info()"
   ]
  },
  {
   "cell_type": "code",
   "execution_count": 34,
   "id": "7a987a0c-8fe8-472a-aaa1-e45cbbac917b",
   "metadata": {},
   "outputs": [
    {
     "data": {
      "text/plain": [
       "16"
      ]
     },
     "execution_count": 34,
     "metadata": {},
     "output_type": "execute_result"
    }
   ],
   "source": [
    "len('Centro de Custos')"
   ]
  }
 ],
 "metadata": {
  "kernelspec": {
   "display_name": "Python 3",
   "language": "python",
   "name": "python3"
  },
  "language_info": {
   "codemirror_mode": {
    "name": "ipython",
    "version": 3
   },
   "file_extension": ".py",
   "mimetype": "text/x-python",
   "name": "python",
   "nbconvert_exporter": "python",
   "pygments_lexer": "ipython3",
   "version": "3.8.8"
  }
 },
 "nbformat": 4,
 "nbformat_minor": 5
}
