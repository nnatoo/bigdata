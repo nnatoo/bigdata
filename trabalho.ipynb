{
 "cells": [
  {
   "cell_type": "markdown",
   "id": "892e9d79-e31a-40ed-b1a5-fab252aad812",
   "metadata": {
    "tags": []
   },
   "source": [
    "<img src=\"https://www.uninove.br/logo-uninove.svg\" style=\"margin-left:auto; margin-right:true\"/>"
   ]
  },
  {
   "cell_type": "markdown",
   "id": "f57b7a8b-52b0-4670-81b2-9e6ad8d2c0c1",
   "metadata": {},
   "source": [
    "<h1 style=\"text-align: center; color:#3E2AA2;\">Análise e tratamento de dados</h1>\n",
    "<p style=\"text-align: center;\"><b>BIG DATA, DATA ANALYTICS E FERRAMENTAS DE ANÁLISE DE DADOS IOT</b><br><b>Aluno: </b>Renato Batista de Almeida <b>RA: </b>621200587<br><b>\n",
    "    Professor: </b>Fellipe Martins</p>    "
   ]
  },
  {
   "cell_type": "markdown",
   "id": "aa3b73bb-25b8-4926-9e29-778c39eadaf4",
   "metadata": {
    "tags": []
   },
   "source": [
    "# Índice\n",
    "\n",
    "[1. Importar dependências](#dependencias) <br>\n",
    "[2, Conectando uma fonte de dados do tipo CSV](#fontedados) <br>\n",
    "[3. Renomeando e padronizando as colunas](#colunas) <br>\n",
    "[4. Exibindo o tipo de dados](#tipodados) <br>\n",
    "[5. Corrigindo a coluna \"Pagamento\" com data](#data) <br>\n",
    "[6. Corrigindo a coluna \"Valor\"](#valor) <br>\n",
    "[7. Reduzindo o uso de memória](#memoria) <br>\n",
    "[8. Gráficos](#graficos) <br>\n"
   ]
  },
  {
   "cell_type": "markdown",
   "id": "4b78b0a1-a6e4-4dc6-aabe-42c51d0b0a1c",
   "metadata": {},
   "source": [
    "<a name=\"dependencias\"><h3>1. Importar dependências</h2></a>"
   ]
  },
  {
   "cell_type": "code",
   "execution_count": 22,
   "id": "7b8347e2-80b0-4979-983b-a9fdb13b30f0",
   "metadata": {},
   "outputs": [],
   "source": [
    "import pandas as pd\n",
    "import numpy as np\n",
    "import matplotlib.pyplot as plt\n",
    "%matplotlib inline"
   ]
  },
  {
   "cell_type": "markdown",
   "id": "97df4976-a58b-45f0-a541-fd41d440e725",
   "metadata": {},
   "source": [
    "<a name=\"fontedados\"><h3>2. Conectando uma fonte de dados do tipo CSV</h2></a>\n"
   ]
  },
  {
   "cell_type": "code",
   "execution_count": 23,
   "id": "6fb787db-d8f2-4f72-ad0f-811e0d225ba9",
   "metadata": {},
   "outputs": [
    {
     "data": {
      "text/html": [
       "<div>\n",
       "<style scoped>\n",
       "    .dataframe tbody tr th:only-of-type {\n",
       "        vertical-align: middle;\n",
       "    }\n",
       "\n",
       "    .dataframe tbody tr th {\n",
       "        vertical-align: top;\n",
       "    }\n",
       "\n",
       "    .dataframe thead th {\n",
       "        text-align: right;\n",
       "    }\n",
       "</style>\n",
       "<table border=\"1\" class=\"dataframe\">\n",
       "  <thead>\n",
       "    <tr style=\"text-align: right;\">\n",
       "      <th></th>\n",
       "      <th>Pessoa Tipo</th>\n",
       "      <th>Centro de Custos</th>\n",
       "      <th>Grupo De Despesas</th>\n",
       "      <th>Despesa</th>\n",
       "      <th>Pagamento</th>\n",
       "      <th>Valor</th>\n",
       "      <th>Parcela</th>\n",
       "      <th>Forma de Pagto</th>\n",
       "      <th>Banco</th>\n",
       "      <th>Histórico</th>\n",
       "    </tr>\n",
       "  </thead>\n",
       "  <tbody>\n",
       "    <tr>\n",
       "      <th>0</th>\n",
       "      <td>PJ</td>\n",
       "      <td>CUSTO FIXO GERAL</td>\n",
       "      <td>ADMINISTRAÇÃO</td>\n",
       "      <td>CAFÉ</td>\n",
       "      <td>02/01/2020</td>\n",
       "      <td>R$ 420,42</td>\n",
       "      <td>NaN</td>\n",
       "      <td>INTERNET</td>\n",
       "      <td>OUTROS</td>\n",
       "      <td>insumos nescafe</td>\n",
       "    </tr>\n",
       "    <tr>\n",
       "      <th>1</th>\n",
       "      <td>PF</td>\n",
       "      <td>CUSTO FIXO GERAL</td>\n",
       "      <td>RECURSOS HUMANOS - SALÁRIOS</td>\n",
       "      <td>MARCELA DE BERNARDO</td>\n",
       "      <td>03/01/2020</td>\n",
       "      <td>R$ 3.500,00</td>\n",
       "      <td>NaN</td>\n",
       "      <td>TRANSFERÊNCIA</td>\n",
       "      <td>ITAÚ PESSOA FÍSICA</td>\n",
       "      <td>NaN</td>\n",
       "    </tr>\n",
       "    <tr>\n",
       "      <th>2</th>\n",
       "      <td>PF</td>\n",
       "      <td>CUSTO FIXO GERAL</td>\n",
       "      <td>RECURSOS HUMANOS - SALÁRIOS</td>\n",
       "      <td>TAIANNY DUARTE</td>\n",
       "      <td>03/01/2020</td>\n",
       "      <td>R$ 3.500,00</td>\n",
       "      <td>NaN</td>\n",
       "      <td>NaN</td>\n",
       "      <td>ITAÚ PESSOA FÍSICA</td>\n",
       "      <td>ultimo mes - dezembro - mudou pra franca</td>\n",
       "    </tr>\n",
       "    <tr>\n",
       "      <th>3</th>\n",
       "      <td>PJ</td>\n",
       "      <td>CUSTO FIXO GERAL</td>\n",
       "      <td>RECURSOS HUMANOS - SALÁRIOS</td>\n",
       "      <td>ANTONIELA MOTA DOS SANTOS</td>\n",
       "      <td>06/01/2020</td>\n",
       "      <td>R$ 1.151,50</td>\n",
       "      <td>NaN</td>\n",
       "      <td>TRANSFERÊNCIA</td>\n",
       "      <td>ITAÚ PESSOA JURÍDICA</td>\n",
       "      <td>NaN</td>\n",
       "    </tr>\n",
       "    <tr>\n",
       "      <th>4</th>\n",
       "      <td>PJ</td>\n",
       "      <td>CUSTO FIXO GERAL</td>\n",
       "      <td>RECURSOS HUMANOS - BENEFÍCIOS VR</td>\n",
       "      <td>ANTONIELA MOTA DOS SANTOS</td>\n",
       "      <td>06/01/2020</td>\n",
       "      <td>R$ 129,60</td>\n",
       "      <td>NaN</td>\n",
       "      <td>TRANSFERÊNCIA</td>\n",
       "      <td>ITAÚ PESSOA JURÍDICA</td>\n",
       "      <td>valor da cesta basica - esta de licenca matern...</td>\n",
       "    </tr>\n",
       "    <tr>\n",
       "      <th>...</th>\n",
       "      <td>...</td>\n",
       "      <td>...</td>\n",
       "      <td>...</td>\n",
       "      <td>...</td>\n",
       "      <td>...</td>\n",
       "      <td>...</td>\n",
       "      <td>...</td>\n",
       "      <td>...</td>\n",
       "      <td>...</td>\n",
       "      <td>...</td>\n",
       "    </tr>\n",
       "    <tr>\n",
       "      <th>378</th>\n",
       "      <td>PJ</td>\n",
       "      <td>CUSTO FIXO GERAL</td>\n",
       "      <td>IMOBILIZADO</td>\n",
       "      <td>EQUIPAMENTOS</td>\n",
       "      <td>23/12/2020</td>\n",
       "      <td>R$ 1.855,00</td>\n",
       "      <td>NaN</td>\n",
       "      <td>INTERNET</td>\n",
       "      <td>ITAÚ PESSOA JURÍDICA</td>\n",
       "      <td>nobreak 5 kva</td>\n",
       "    </tr>\n",
       "    <tr>\n",
       "      <th>379</th>\n",
       "      <td>PF</td>\n",
       "      <td>CUSTO FIXO GERAL</td>\n",
       "      <td>ADMINISTRAÇÃO</td>\n",
       "      <td>VIVO FIBRA (TV À CABO)</td>\n",
       "      <td>25/12/2020</td>\n",
       "      <td>R$ 223,87</td>\n",
       "      <td>NaN</td>\n",
       "      <td>INTERNET</td>\n",
       "      <td>ITAÚ PESSOA JURÍDICA</td>\n",
       "      <td>deb auto</td>\n",
       "    </tr>\n",
       "    <tr>\n",
       "      <th>380</th>\n",
       "      <td>NC</td>\n",
       "      <td>CUSTO FIXO GERAL</td>\n",
       "      <td>MANUTENÇÕES</td>\n",
       "      <td>DIVERSOS MANUTENÇÃO</td>\n",
       "      <td>25/12/2020</td>\n",
       "      <td>R$ 850,00</td>\n",
       "      <td>NaN</td>\n",
       "      <td>TRANSFERÊNCIA</td>\n",
       "      <td>ITAU CONJUNTA</td>\n",
       "      <td>Gustavo eletricista  - quadro de luz, instalac...</td>\n",
       "    </tr>\n",
       "    <tr>\n",
       "      <th>381</th>\n",
       "      <td>PF</td>\n",
       "      <td>CUSTO FIXO GERAL</td>\n",
       "      <td>ADMINISTRAÇÃO</td>\n",
       "      <td>VIVO (11 3031-4910)</td>\n",
       "      <td>27/12/2020</td>\n",
       "      <td>R$ 126,71</td>\n",
       "      <td>NaN</td>\n",
       "      <td>INTERNET</td>\n",
       "      <td>ITAÚ PESSOA JURÍDICA</td>\n",
       "      <td>deb automatico</td>\n",
       "    </tr>\n",
       "    <tr>\n",
       "      <th>382</th>\n",
       "      <td>PJ</td>\n",
       "      <td>CUSTO FIXO GERAL</td>\n",
       "      <td>ADMINISTRAÇÃO</td>\n",
       "      <td>MARKETING</td>\n",
       "      <td>31/12/2020</td>\n",
       "      <td>R$ 2.695,00</td>\n",
       "      <td>NaN</td>\n",
       "      <td>TRANSFERÊNCIA</td>\n",
       "      <td>ITAÚ PESSOA JURÍDICA</td>\n",
       "      <td>4 press</td>\n",
       "    </tr>\n",
       "  </tbody>\n",
       "</table>\n",
       "<p>383 rows × 10 columns</p>\n",
       "</div>"
      ],
      "text/plain": [
       "    Pessoa Tipo  Centro de Custos                 Grupo De Despesas  \\\n",
       "0            PJ  CUSTO FIXO GERAL                     ADMINISTRAÇÃO   \n",
       "1            PF  CUSTO FIXO GERAL       RECURSOS HUMANOS - SALÁRIOS   \n",
       "2            PF  CUSTO FIXO GERAL       RECURSOS HUMANOS - SALÁRIOS   \n",
       "3            PJ  CUSTO FIXO GERAL       RECURSOS HUMANOS - SALÁRIOS   \n",
       "4            PJ  CUSTO FIXO GERAL  RECURSOS HUMANOS - BENEFÍCIOS VR   \n",
       "..          ...               ...                               ...   \n",
       "378          PJ  CUSTO FIXO GERAL                       IMOBILIZADO   \n",
       "379          PF  CUSTO FIXO GERAL                     ADMINISTRAÇÃO   \n",
       "380          NC  CUSTO FIXO GERAL                       MANUTENÇÕES   \n",
       "381          PF  CUSTO FIXO GERAL                     ADMINISTRAÇÃO   \n",
       "382          PJ  CUSTO FIXO GERAL                     ADMINISTRAÇÃO   \n",
       "\n",
       "                       Despesa   Pagamento        Valor  Parcela  \\\n",
       "0                         CAFÉ  02/01/2020    R$ 420,42      NaN   \n",
       "1          MARCELA DE BERNARDO  03/01/2020  R$ 3.500,00      NaN   \n",
       "2               TAIANNY DUARTE  03/01/2020  R$ 3.500,00      NaN   \n",
       "3    ANTONIELA MOTA DOS SANTOS  06/01/2020  R$ 1.151,50      NaN   \n",
       "4    ANTONIELA MOTA DOS SANTOS  06/01/2020    R$ 129,60      NaN   \n",
       "..                         ...         ...          ...      ...   \n",
       "378               EQUIPAMENTOS  23/12/2020  R$ 1.855,00      NaN   \n",
       "379     VIVO FIBRA (TV À CABO)  25/12/2020    R$ 223,87      NaN   \n",
       "380        DIVERSOS MANUTENÇÃO  25/12/2020    R$ 850,00      NaN   \n",
       "381        VIVO (11 3031-4910)  27/12/2020    R$ 126,71      NaN   \n",
       "382                  MARKETING  31/12/2020  R$ 2.695,00      NaN   \n",
       "\n",
       "    Forma de Pagto                 Banco  \\\n",
       "0         INTERNET                OUTROS   \n",
       "1    TRANSFERÊNCIA    ITAÚ PESSOA FÍSICA   \n",
       "2              NaN    ITAÚ PESSOA FÍSICA   \n",
       "3    TRANSFERÊNCIA  ITAÚ PESSOA JURÍDICA   \n",
       "4    TRANSFERÊNCIA  ITAÚ PESSOA JURÍDICA   \n",
       "..             ...                   ...   \n",
       "378       INTERNET  ITAÚ PESSOA JURÍDICA   \n",
       "379       INTERNET  ITAÚ PESSOA JURÍDICA   \n",
       "380  TRANSFERÊNCIA         ITAU CONJUNTA   \n",
       "381       INTERNET  ITAÚ PESSOA JURÍDICA   \n",
       "382  TRANSFERÊNCIA  ITAÚ PESSOA JURÍDICA   \n",
       "\n",
       "                                             Histórico  \n",
       "0                                      insumos nescafe  \n",
       "1                                                  NaN  \n",
       "2             ultimo mes - dezembro - mudou pra franca  \n",
       "3                                                  NaN  \n",
       "4    valor da cesta basica - esta de licenca matern...  \n",
       "..                                                 ...  \n",
       "378                                      nobreak 5 kva  \n",
       "379                                           deb auto  \n",
       "380  Gustavo eletricista  - quadro de luz, instalac...  \n",
       "381                                     deb automatico  \n",
       "382                                            4 press  \n",
       "\n",
       "[383 rows x 10 columns]"
      ]
     },
     "execution_count": 23,
     "metadata": {},
     "output_type": "execute_result"
    }
   ],
   "source": [
    "df = pd.read_csv(\"E:\\\\desktop\\\\uninove\\\\dados.csv\", \"r\", delimiter=';', encoding=\"UTF-8\")\n",
    "df"
   ]
  },
  {
   "cell_type": "markdown",
   "id": "91cca17b-f771-4194-9f81-f7f3c574ecf5",
   "metadata": {},
   "source": [
    "<a name=\"colunas\"><h3>3. Renomeando e padronizando as colunas</h2></a>"
   ]
  },
  {
   "cell_type": "code",
   "execution_count": 24,
   "id": "2a638d51-2c3a-4ea4-a26d-982169fd4ef6",
   "metadata": {},
   "outputs": [
    {
     "data": {
      "text/plain": [
       "Index(['Pessoa Tipo', 'Centro de Custos', 'Grupo De Despesas', 'Despesa',\n",
       "       'Pagamento', 'Valor', 'Parcela', 'Forma de Pagto', 'Banco',\n",
       "       'Histórico'],\n",
       "      dtype='object')"
      ]
     },
     "execution_count": 24,
     "metadata": {},
     "output_type": "execute_result"
    }
   ],
   "source": [
    "df.columns"
   ]
  },
  {
   "cell_type": "code",
   "execution_count": 25,
   "id": "d8fb6665-1f3d-48a9-824a-cd0460ad2fa9",
   "metadata": {},
   "outputs": [
    {
     "data": {
      "text/plain": [
       "Index(['Pessoa_Tipo', 'Centro_de_Custos', 'Grupo_De_Despesas', 'Despesa',\n",
       "       'Pagamento', 'Valor', 'Parcela', 'Forma_de_Pagto', 'Banco',\n",
       "       'Histórico'],\n",
       "      dtype='object')"
      ]
     },
     "execution_count": 25,
     "metadata": {},
     "output_type": "execute_result"
    }
   ],
   "source": [
    "lista = []\n",
    "for x in df.columns:    \n",
    "    x = x.replace(\" \", \"_\")    \n",
    "    x = x.lstrip(\"_\")\n",
    "    x = x.rstrip(\"_\")   \n",
    "    lista.append(x)\n",
    "    \n",
    "df.columns = lista\n",
    "df.columns"
   ]
  },
  {
   "cell_type": "markdown",
   "id": "86cde847-3020-438b-b9a0-1e2fb656bc7d",
   "metadata": {},
   "source": [
    "\n",
    "Removendo acentos dos nomes das colunas"
   ]
  },
  {
   "cell_type": "code",
   "execution_count": 26,
   "id": "8c92feb2-385e-4ecb-8db3-0e5ed873cf3f",
   "metadata": {},
   "outputs": [
    {
     "data": {
      "text/plain": [
       "Index(['Pessoa_Tipo', 'Centro_de_Custos', 'Grupo_De_Despesas', 'Despesa',\n",
       "       'Pagamento', 'Valor', 'Parcela', 'Forma_de_Pagto', 'Banco',\n",
       "       'Historico'],\n",
       "      dtype='object')"
      ]
     },
     "execution_count": 26,
     "metadata": {},
     "output_type": "execute_result"
    }
   ],
   "source": [
    "from unidecode import unidecode    \n",
    "\n",
    "lista = []\n",
    "for x in df.columns:\n",
    "    x = unidecode(x)\n",
    "    lista.append(x)\n",
    "    \n",
    "df.columns = lista\n",
    "df.columns"
   ]
  },
  {
   "cell_type": "markdown",
   "id": "ce82982b-01dc-4235-829c-addfa6dd5ac4",
   "metadata": {},
   "source": [
    "<a name=\"tipodados\"><h3>4. Exibindo o tipo de dados</h2></a>"
   ]
  },
  {
   "cell_type": "code",
   "execution_count": 27,
   "id": "5bf4b53b-51da-4083-91bd-a98f7e6b9840",
   "metadata": {},
   "outputs": [
    {
     "data": {
      "text/plain": [
       "Pessoa_Tipo           object\n",
       "Centro_de_Custos      object\n",
       "Grupo_De_Despesas     object\n",
       "Despesa               object\n",
       "Pagamento             object\n",
       "Valor                 object\n",
       "Parcela              float64\n",
       "Forma_de_Pagto        object\n",
       "Banco                 object\n",
       "Historico             object\n",
       "dtype: object"
      ]
     },
     "execution_count": 27,
     "metadata": {},
     "output_type": "execute_result"
    }
   ],
   "source": [
    "df.dtypes"
   ]
  },
  {
   "cell_type": "code",
   "execution_count": 28,
   "id": "2469640b-ac1f-4c84-b72b-e66a98e14e3d",
   "metadata": {},
   "outputs": [
    {
     "name": "stdout",
     "output_type": "stream",
     "text": [
      "<class 'pandas.core.frame.DataFrame'>\n",
      "RangeIndex: 383 entries, 0 to 382\n",
      "Data columns (total 10 columns):\n",
      " #   Column             Non-Null Count  Dtype  \n",
      "---  ------             --------------  -----  \n",
      " 0   Pessoa_Tipo        383 non-null    object \n",
      " 1   Centro_de_Custos   383 non-null    object \n",
      " 2   Grupo_De_Despesas  383 non-null    object \n",
      " 3   Despesa            383 non-null    object \n",
      " 4   Pagamento          383 non-null    object \n",
      " 5   Valor              383 non-null    object \n",
      " 6   Parcela            0 non-null      float64\n",
      " 7   Forma_de_Pagto     381 non-null    object \n",
      " 8   Banco              383 non-null    object \n",
      " 9   Historico          203 non-null    object \n",
      "dtypes: float64(1), object(9)\n",
      "memory usage: 30.0+ KB\n"
     ]
    }
   ],
   "source": [
    "df.info()"
   ]
  },
  {
   "cell_type": "markdown",
   "id": "3833f7cf-149f-4b63-b256-389d6a72afb7",
   "metadata": {},
   "source": [
    "<a name=\"data\"><h3>5. Corrigindo a coluna \"Pagamento\" com data</h2></a>"
   ]
  },
  {
   "cell_type": "code",
   "execution_count": 34,
   "id": "2042613a-4e2e-4dee-a03c-c54f89df33c2",
   "metadata": {},
   "outputs": [
    {
     "data": {
      "text/plain": [
       "0      02/01/2020\n",
       "1      03/01/2020\n",
       "2      03/01/2020\n",
       "3      06/01/2020\n",
       "4      06/01/2020\n",
       "          ...    \n",
       "378    23/12/2020\n",
       "379    25/12/2020\n",
       "380    25/12/2020\n",
       "381    27/12/2020\n",
       "382    31/12/2020\n",
       "Name: Pagamento, Length: 383, dtype: object"
      ]
     },
     "execution_count": 34,
     "metadata": {},
     "output_type": "execute_result"
    }
   ],
   "source": [
    "df.Pagamento"
   ]
  },
  {
   "cell_type": "code",
   "execution_count": 63,
   "id": "a5e9eb99-56c2-4df1-8a87-639741ba32b3",
   "metadata": {},
   "outputs": [
    {
     "data": {
      "text/plain": [
       "0     2020-02-01\n",
       "1     2020-03-01\n",
       "2     2020-03-01\n",
       "3     2020-06-01\n",
       "4     2020-06-01\n",
       "         ...    \n",
       "378   2020-12-23\n",
       "379   2020-12-25\n",
       "380   2020-12-25\n",
       "381   2020-12-27\n",
       "382   2020-12-31\n",
       "Name: Pagamento, Length: 383, dtype: datetime64[ns]"
      ]
     },
     "execution_count": 63,
     "metadata": {},
     "output_type": "execute_result"
    }
   ],
   "source": [
    "df.Pagamento =df.Pagamento.apply(pd.to_datetime)\n",
    "df.Pagamento"
   ]
  },
  {
   "cell_type": "code",
   "execution_count": 64,
   "id": "3c3804f9-a141-423b-84b3-0874d09e376e",
   "metadata": {},
   "outputs": [
    {
     "name": "stdout",
     "output_type": "stream",
     "text": [
      "<class 'pandas.core.frame.DataFrame'>\n",
      "RangeIndex: 383 entries, 0 to 382\n",
      "Data columns (total 10 columns):\n",
      " #   Column             Non-Null Count  Dtype         \n",
      "---  ------             --------------  -----         \n",
      " 0   Pessoa_Tipo        383 non-null    object        \n",
      " 1   Centro_de_Custos   383 non-null    object        \n",
      " 2   Grupo_De_Despesas  383 non-null    object        \n",
      " 3   Despesa            383 non-null    object        \n",
      " 4   Pagamento          383 non-null    datetime64[ns]\n",
      " 5   Valor              383 non-null    object        \n",
      " 6   Parcela            0 non-null      float64       \n",
      " 7   Forma_de_Pagto     381 non-null    object        \n",
      " 8   Banco              383 non-null    object        \n",
      " 9   Historico          203 non-null    object        \n",
      "dtypes: datetime64[ns](1), float64(1), object(8)\n",
      "memory usage: 30.0+ KB\n"
     ]
    }
   ],
   "source": [
    "df.info()"
   ]
  },
  {
   "cell_type": "markdown",
   "id": "4a2dbb87-6035-41ad-815a-84a7bc778133",
   "metadata": {},
   "source": [
    "<a name=\"valor\"><h3>6. Corrigindo a coluna \"Valor\"</h2></a>"
   ]
  },
  {
   "cell_type": "code",
   "execution_count": 12,
   "id": "7a987a0c-8fe8-472a-aaa1-e45cbbac917b",
   "metadata": {},
   "outputs": [
    {
     "data": {
      "text/plain": [
       "dtype('O')"
      ]
     },
     "execution_count": 12,
     "metadata": {},
     "output_type": "execute_result"
    }
   ],
   "source": [
    "df.Valor.dtype"
   ]
  },
  {
   "cell_type": "code",
   "execution_count": 13,
   "id": "d799f4c3-5073-4f96-b7ee-95b79dad7cd0",
   "metadata": {},
   "outputs": [],
   "source": [
    "def real_para_float(x):\n",
    "    x = (x\n",
    "         .replace(\" \", \"\")\n",
    "         .replace(\"R$\",\"\")\n",
    "         .replace(\".\", \"\")\n",
    "         .replace(\",\", \".\")\n",
    "        )\n",
    "    return float(x)"
   ]
  },
  {
   "cell_type": "code",
   "execution_count": 66,
   "id": "7cbab3d0-8f2a-48c2-9743-41ef55c7b673",
   "metadata": {},
   "outputs": [
    {
     "data": {
      "text/plain": [
       "0       420.42\n",
       "1      3500.00\n",
       "2      3500.00\n",
       "3      1151.50\n",
       "4       129.60\n",
       "        ...   \n",
       "378    1855.00\n",
       "379     223.87\n",
       "380     850.00\n",
       "381     126.71\n",
       "382    2695.00\n",
       "Name: Valor, Length: 383, dtype: float64"
      ]
     },
     "execution_count": 66,
     "metadata": {},
     "output_type": "execute_result"
    }
   ],
   "source": [
    "df.Valor = (df.Valor\n",
    "                     .apply(real_para_float)\n",
    "                    )\n",
    "\n",
    "df.Valor"
   ]
  },
  {
   "cell_type": "code",
   "execution_count": 15,
   "id": "63fd03c3-2d98-4ef1-b355-4c48a2394e87",
   "metadata": {},
   "outputs": [
    {
     "data": {
      "text/plain": [
       "dtype('float64')"
      ]
     },
     "execution_count": 15,
     "metadata": {},
     "output_type": "execute_result"
    }
   ],
   "source": [
    "df.Valor.dtype"
   ]
  },
  {
   "cell_type": "markdown",
   "id": "b7f9a1d8-495a-419f-9fdb-89e92c1aaff1",
   "metadata": {},
   "source": [
    "<a name=\"memoria\"><h3>7. Reduzindo o uso de memória</h2></a>"
   ]
  },
  {
   "cell_type": "code",
   "execution_count": 71,
   "id": "42f27adc-87e2-4620-b59b-074aedf571fc",
   "metadata": {},
   "outputs": [
    {
     "data": {
      "text/plain": [
       "208124"
      ]
     },
     "execution_count": 71,
     "metadata": {},
     "output_type": "execute_result"
    }
   ],
   "source": [
    "memoria = df.memory_usage(deep=\"True\").sum()\n",
    "memoria"
   ]
  },
  {
   "cell_type": "code",
   "execution_count": 73,
   "id": "1001284a-b2e8-4f58-a423-5ca543d4e9ae",
   "metadata": {},
   "outputs": [],
   "source": [
    "# Obrigado Déborah pela indicação da função! - - Tudo se copia (;\n",
    "\n",
    "def reduz_memoria(df, verbose=True):\n",
    "    numerics = ['int16', 'int32', 'int64', 'float16', 'float32', 'float64']\n",
    "    start_mem = df.memory_usage().sum() / 1024**2    \n",
    "    \n",
    "    for col in df.columns:\n",
    "        col_type = df[col].dtypes\n",
    "        if col_type in numerics:\n",
    "            c_min = df[col].min()\n",
    "            c_max = df[col].max()            \n",
    "            if str(col_type)[:3] == 'int':\n",
    "                if c_min > np.iinfo(np.int8).min and c_max < np.iinfo(np.int8).max:\n",
    "                    df[col] = df[col].astype(np.int8)\n",
    "                elif c_min > np.iinfo(np.int16).min and c_max < np.iinfo(np.int16).max:\n",
    "                    df[col] = df[col].astype(np.int16)\n",
    "                elif c_min > np.iinfo(np.int32).min and c_max < np.iinfo(np.int32).max:\n",
    "                    df[col] = df[col].astype(np.int32)\n",
    "                elif c_min > np.iinfo(np.int64).min and c_max < np.iinfo(np.int64).max:\n",
    "                    df[col] = df[col].astype(np.int64)  \n",
    "            else:\n",
    "                if c_min > np.finfo(np.float16).min and c_max < np.finfo(np.float16).max:\n",
    "                    df[col] = df[col].astype(np.float16)\n",
    "                elif c_min > np.finfo(np.float32).min and c_max < np.finfo(np.float32).max:\n",
    "                    df[col] = df[col].astype(np.float32)\n",
    "                else:\n",
    "                    df[col] = df[col].astype(np.float64)    \n",
    "    end_mem = df.memory_usage().sum() / 1024**2\n",
    "    if verbose: \n",
    "        print('Uso de memória caiu para {:5.2f} Mb ({:.1f}% de redução)'.format(\n",
    "            end_mem, 100 * (start_mem - end_mem) / start_mem))\n",
    "    return df"
   ]
  },
  {
   "cell_type": "code",
   "execution_count": 70,
   "id": "080363d6-8202-4f30-830b-3819e94589b4",
   "metadata": {},
   "outputs": [
    {
     "name": "stdout",
     "output_type": "stream",
     "text": [
      "Uso de memória caiu para  0.03 Mb (7.5% de redução)\n"
     ]
    },
    {
     "data": {
      "text/html": [
       "<div>\n",
       "<style scoped>\n",
       "    .dataframe tbody tr th:only-of-type {\n",
       "        vertical-align: middle;\n",
       "    }\n",
       "\n",
       "    .dataframe tbody tr th {\n",
       "        vertical-align: top;\n",
       "    }\n",
       "\n",
       "    .dataframe thead th {\n",
       "        text-align: right;\n",
       "    }\n",
       "</style>\n",
       "<table border=\"1\" class=\"dataframe\">\n",
       "  <thead>\n",
       "    <tr style=\"text-align: right;\">\n",
       "      <th></th>\n",
       "      <th>Pessoa_Tipo</th>\n",
       "      <th>Centro_de_Custos</th>\n",
       "      <th>Grupo_De_Despesas</th>\n",
       "      <th>Despesa</th>\n",
       "      <th>Pagamento</th>\n",
       "      <th>Valor</th>\n",
       "      <th>Parcela</th>\n",
       "      <th>Forma_de_Pagto</th>\n",
       "      <th>Banco</th>\n",
       "      <th>Historico</th>\n",
       "    </tr>\n",
       "  </thead>\n",
       "  <tbody>\n",
       "    <tr>\n",
       "      <th>0</th>\n",
       "      <td>PJ</td>\n",
       "      <td>CUSTO FIXO GERAL</td>\n",
       "      <td>ADMINISTRAÇÃO</td>\n",
       "      <td>CAFÉ</td>\n",
       "      <td>2020-02-01</td>\n",
       "      <td>420.5000</td>\n",
       "      <td>NaN</td>\n",
       "      <td>INTERNET</td>\n",
       "      <td>OUTROS</td>\n",
       "      <td>insumos nescafe</td>\n",
       "    </tr>\n",
       "    <tr>\n",
       "      <th>1</th>\n",
       "      <td>PF</td>\n",
       "      <td>CUSTO FIXO GERAL</td>\n",
       "      <td>RECURSOS HUMANOS - SALÁRIOS</td>\n",
       "      <td>MARCELA DE BERNARDO</td>\n",
       "      <td>2020-03-01</td>\n",
       "      <td>3500.0000</td>\n",
       "      <td>NaN</td>\n",
       "      <td>TRANSFERÊNCIA</td>\n",
       "      <td>ITAÚ PESSOA FÍSICA</td>\n",
       "      <td>NaN</td>\n",
       "    </tr>\n",
       "    <tr>\n",
       "      <th>2</th>\n",
       "      <td>PF</td>\n",
       "      <td>CUSTO FIXO GERAL</td>\n",
       "      <td>RECURSOS HUMANOS - SALÁRIOS</td>\n",
       "      <td>TAIANNY DUARTE</td>\n",
       "      <td>2020-03-01</td>\n",
       "      <td>3500.0000</td>\n",
       "      <td>NaN</td>\n",
       "      <td>NaN</td>\n",
       "      <td>ITAÚ PESSOA FÍSICA</td>\n",
       "      <td>ultimo mes - dezembro - mudou pra franca</td>\n",
       "    </tr>\n",
       "    <tr>\n",
       "      <th>3</th>\n",
       "      <td>PJ</td>\n",
       "      <td>CUSTO FIXO GERAL</td>\n",
       "      <td>RECURSOS HUMANOS - SALÁRIOS</td>\n",
       "      <td>ANTONIELA MOTA DOS SANTOS</td>\n",
       "      <td>2020-06-01</td>\n",
       "      <td>1152.0000</td>\n",
       "      <td>NaN</td>\n",
       "      <td>TRANSFERÊNCIA</td>\n",
       "      <td>ITAÚ PESSOA JURÍDICA</td>\n",
       "      <td>NaN</td>\n",
       "    </tr>\n",
       "    <tr>\n",
       "      <th>4</th>\n",
       "      <td>PJ</td>\n",
       "      <td>CUSTO FIXO GERAL</td>\n",
       "      <td>RECURSOS HUMANOS - BENEFÍCIOS VR</td>\n",
       "      <td>ANTONIELA MOTA DOS SANTOS</td>\n",
       "      <td>2020-06-01</td>\n",
       "      <td>129.6250</td>\n",
       "      <td>NaN</td>\n",
       "      <td>TRANSFERÊNCIA</td>\n",
       "      <td>ITAÚ PESSOA JURÍDICA</td>\n",
       "      <td>valor da cesta basica - esta de licenca matern...</td>\n",
       "    </tr>\n",
       "    <tr>\n",
       "      <th>...</th>\n",
       "      <td>...</td>\n",
       "      <td>...</td>\n",
       "      <td>...</td>\n",
       "      <td>...</td>\n",
       "      <td>...</td>\n",
       "      <td>...</td>\n",
       "      <td>...</td>\n",
       "      <td>...</td>\n",
       "      <td>...</td>\n",
       "      <td>...</td>\n",
       "    </tr>\n",
       "    <tr>\n",
       "      <th>378</th>\n",
       "      <td>PJ</td>\n",
       "      <td>CUSTO FIXO GERAL</td>\n",
       "      <td>IMOBILIZADO</td>\n",
       "      <td>EQUIPAMENTOS</td>\n",
       "      <td>2020-12-23</td>\n",
       "      <td>1855.0000</td>\n",
       "      <td>NaN</td>\n",
       "      <td>INTERNET</td>\n",
       "      <td>ITAÚ PESSOA JURÍDICA</td>\n",
       "      <td>nobreak 5 kva</td>\n",
       "    </tr>\n",
       "    <tr>\n",
       "      <th>379</th>\n",
       "      <td>PF</td>\n",
       "      <td>CUSTO FIXO GERAL</td>\n",
       "      <td>ADMINISTRAÇÃO</td>\n",
       "      <td>VIVO FIBRA (TV À CABO)</td>\n",
       "      <td>2020-12-25</td>\n",
       "      <td>223.8750</td>\n",
       "      <td>NaN</td>\n",
       "      <td>INTERNET</td>\n",
       "      <td>ITAÚ PESSOA JURÍDICA</td>\n",
       "      <td>deb auto</td>\n",
       "    </tr>\n",
       "    <tr>\n",
       "      <th>380</th>\n",
       "      <td>NC</td>\n",
       "      <td>CUSTO FIXO GERAL</td>\n",
       "      <td>MANUTENÇÕES</td>\n",
       "      <td>DIVERSOS MANUTENÇÃO</td>\n",
       "      <td>2020-12-25</td>\n",
       "      <td>850.0000</td>\n",
       "      <td>NaN</td>\n",
       "      <td>TRANSFERÊNCIA</td>\n",
       "      <td>ITAU CONJUNTA</td>\n",
       "      <td>Gustavo eletricista  - quadro de luz, instalac...</td>\n",
       "    </tr>\n",
       "    <tr>\n",
       "      <th>381</th>\n",
       "      <td>PF</td>\n",
       "      <td>CUSTO FIXO GERAL</td>\n",
       "      <td>ADMINISTRAÇÃO</td>\n",
       "      <td>VIVO (11 3031-4910)</td>\n",
       "      <td>2020-12-27</td>\n",
       "      <td>126.6875</td>\n",
       "      <td>NaN</td>\n",
       "      <td>INTERNET</td>\n",
       "      <td>ITAÚ PESSOA JURÍDICA</td>\n",
       "      <td>deb automatico</td>\n",
       "    </tr>\n",
       "    <tr>\n",
       "      <th>382</th>\n",
       "      <td>PJ</td>\n",
       "      <td>CUSTO FIXO GERAL</td>\n",
       "      <td>ADMINISTRAÇÃO</td>\n",
       "      <td>MARKETING</td>\n",
       "      <td>2020-12-31</td>\n",
       "      <td>2696.0000</td>\n",
       "      <td>NaN</td>\n",
       "      <td>TRANSFERÊNCIA</td>\n",
       "      <td>ITAÚ PESSOA JURÍDICA</td>\n",
       "      <td>4 press</td>\n",
       "    </tr>\n",
       "  </tbody>\n",
       "</table>\n",
       "<p>383 rows × 10 columns</p>\n",
       "</div>"
      ],
      "text/plain": [
       "    Pessoa_Tipo  Centro_de_Custos                 Grupo_De_Despesas  \\\n",
       "0            PJ  CUSTO FIXO GERAL                     ADMINISTRAÇÃO   \n",
       "1            PF  CUSTO FIXO GERAL       RECURSOS HUMANOS - SALÁRIOS   \n",
       "2            PF  CUSTO FIXO GERAL       RECURSOS HUMANOS - SALÁRIOS   \n",
       "3            PJ  CUSTO FIXO GERAL       RECURSOS HUMANOS - SALÁRIOS   \n",
       "4            PJ  CUSTO FIXO GERAL  RECURSOS HUMANOS - BENEFÍCIOS VR   \n",
       "..          ...               ...                               ...   \n",
       "378          PJ  CUSTO FIXO GERAL                       IMOBILIZADO   \n",
       "379          PF  CUSTO FIXO GERAL                     ADMINISTRAÇÃO   \n",
       "380          NC  CUSTO FIXO GERAL                       MANUTENÇÕES   \n",
       "381          PF  CUSTO FIXO GERAL                     ADMINISTRAÇÃO   \n",
       "382          PJ  CUSTO FIXO GERAL                     ADMINISTRAÇÃO   \n",
       "\n",
       "                       Despesa  Pagamento      Valor  Parcela Forma_de_Pagto  \\\n",
       "0                         CAFÉ 2020-02-01   420.5000      NaN       INTERNET   \n",
       "1          MARCELA DE BERNARDO 2020-03-01  3500.0000      NaN  TRANSFERÊNCIA   \n",
       "2               TAIANNY DUARTE 2020-03-01  3500.0000      NaN            NaN   \n",
       "3    ANTONIELA MOTA DOS SANTOS 2020-06-01  1152.0000      NaN  TRANSFERÊNCIA   \n",
       "4    ANTONIELA MOTA DOS SANTOS 2020-06-01   129.6250      NaN  TRANSFERÊNCIA   \n",
       "..                         ...        ...        ...      ...            ...   \n",
       "378               EQUIPAMENTOS 2020-12-23  1855.0000      NaN       INTERNET   \n",
       "379     VIVO FIBRA (TV À CABO) 2020-12-25   223.8750      NaN       INTERNET   \n",
       "380        DIVERSOS MANUTENÇÃO 2020-12-25   850.0000      NaN  TRANSFERÊNCIA   \n",
       "381        VIVO (11 3031-4910) 2020-12-27   126.6875      NaN       INTERNET   \n",
       "382                  MARKETING 2020-12-31  2696.0000      NaN  TRANSFERÊNCIA   \n",
       "\n",
       "                    Banco                                          Historico  \n",
       "0                  OUTROS                                    insumos nescafe  \n",
       "1      ITAÚ PESSOA FÍSICA                                                NaN  \n",
       "2      ITAÚ PESSOA FÍSICA           ultimo mes - dezembro - mudou pra franca  \n",
       "3    ITAÚ PESSOA JURÍDICA                                                NaN  \n",
       "4    ITAÚ PESSOA JURÍDICA  valor da cesta basica - esta de licenca matern...  \n",
       "..                    ...                                                ...  \n",
       "378  ITAÚ PESSOA JURÍDICA                                      nobreak 5 kva  \n",
       "379  ITAÚ PESSOA JURÍDICA                                           deb auto  \n",
       "380         ITAU CONJUNTA  Gustavo eletricista  - quadro de luz, instalac...  \n",
       "381  ITAÚ PESSOA JURÍDICA                                     deb automatico  \n",
       "382  ITAÚ PESSOA JURÍDICA                                            4 press  \n",
       "\n",
       "[383 rows x 10 columns]"
      ]
     },
     "execution_count": 70,
     "metadata": {},
     "output_type": "execute_result"
    }
   ],
   "source": [
    "reduz_memoria(df)"
   ]
  },
  {
   "cell_type": "markdown",
   "id": "e1966817-4a14-4651-b82a-8a5b9660298d",
   "metadata": {
    "tags": []
   },
   "source": [
    "<a name=\"graficos\"><h3>8. Gráficos</h2></a>"
   ]
  },
  {
   "cell_type": "code",
   "execution_count": 136,
   "id": "f7391cf4-5605-4cb5-8239-7bd7ef2a18a3",
   "metadata": {
    "tags": []
   },
   "outputs": [
    {
     "data": {
      "image/png": "[encoded data removed]",
      "text/plain": [
       "<Figure size 720x1080 with 1 Axes>"
      ]
     },
     "metadata": {
      "needs_background": "light"
     },
     "output_type": "display_data"
    }
   ],
   "source": [
    "(df.groupby(\"Despesa\")\n",
    " [\"Valor\"]\n",
    " .mean()\n",
    " .sort_values()\n",
    ").plot(kind=\"barh\", \n",
    "       figsize=(10,15),\n",
    "       fontsize=12\n",
    "      );"
   ]
  },
  {
   "cell_type": "code",
   "execution_count": 102,
   "id": "8d5e888a-80a8-4493-bbe8-e50f3a99c85e",
   "metadata": {},
   "outputs": [
    {
     "data": {
      "image/png": "[encoded data removed]",
      "text/plain": [
       "<Figure size 720x720 with 1 Axes>"
      ]
     },
     "metadata": {},
     "output_type": "display_data"
    }
   ],
   "source": [
    "(df.groupby(\"Centro_de_Custos\")\n",
    " [\"Valor\"]\n",
    " .mean()\n",
    " .sort_values()\n",
    ").plot(kind=\"pie\", \n",
    "       label=\"\", \n",
    "       figsize=(10,10),\n",
    "       fontsize=14\n",
    "      );"
   ]
  },
  {
   "cell_type": "code",
   "execution_count": 104,
   "id": "37f5b308-a291-4898-bbf1-30da5e074436",
   "metadata": {},
   "outputs": [
    {
     "data": {
      "image/png": "[encoded data removed]",
      "text/plain": [
       "<Figure size 720x720 with 1 Axes>"
      ]
     },
     "metadata": {},
     "output_type": "display_data"
    }
   ],
   "source": [
    "(df.groupby(\"Centro_de_Custos\")\n",
    " [\"Valor\"]\n",
    " .mean()\n",
    " .sort_values()\n",
    ").plot(kind=\"pie\", \n",
    "       label=\"\", \n",
    "       figsize=(10,10),\n",
    "       fontsize=14\n",
    "      );"
   ]
  },
  {
   "cell_type": "code",
   "execution_count": 132,
   "id": "9aa76cb7-4563-4f54-b6a8-40d23e5b92e9",
   "metadata": {},
   "outputs": [
    {
     "data": {
      "image/png": "[encoded data removed]",
      "text/plain": [
       "<Figure size 1296x720 with 1 Axes>"
      ]
     },
     "metadata": {
      "needs_background": "light"
     },
     "output_type": "display_data"
    }
   ],
   "source": [
    "df['Meses'] = df['Pagamento'].apply(lambda x:x.strftime('%B'))\n",
    "\n",
    "df.sort_values([\"Meses\"])\n",
    "\n",
    "(df.groupby(\"Meses\")\n",
    " [\"Valor\"]\n",
    " .mean()\n",
    " .sort_values()\n",
    ").plot(kind=\"barh\", \n",
    "       figsize=(18,10),\n",
    "       fontsize=12\n",
    "      );"
   ]
  }
 ],
 "metadata": {
  "kernelspec": {
   "display_name": "Python 3",
   "language": "python",
   "name": "python3"
  },
  "language_info": {
   "codemirror_mode": {
    "name": "ipython",
    "version": 3
   },
   "file_extension": ".py",
   "mimetype": "text/x-python",
   "name": "python",
   "nbconvert_exporter": "python",
   "pygments_lexer": "ipython3",
   "version": "3.8.8"
  }
 },
 "nbformat": 4,
 "nbformat_minor": 5
}
